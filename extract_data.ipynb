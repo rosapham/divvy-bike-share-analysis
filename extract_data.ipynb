{
 "cells": [
  {
   "cell_type": "markdown",
   "metadata": {
    "application/vnd.databricks.v1+cell": {
     "cellMetadata": {},
     "inputWidgets": {},
     "nuid": "ae2b8201-8060-4065-b057-9ff5c691efb6",
     "showTitle": false,
     "title": ""
    }
   },
   "source": [
    "# Extract data from DBFS into dataframes"
   ]
  },
  {
   "cell_type": "code",
   "execution_count": null,
   "metadata": {
    "application/vnd.databricks.v1+cell": {
     "cellMetadata": {
      "byteLimit": 2048000,
      "rowLimit": 10000
     },
     "inputWidgets": {},
     "nuid": "75c05d0b-2d1d-4fae-88ce-cfc5f0bc3463",
     "showTitle": false,
     "title": ""
    }
   },
   "outputs": [],
   "source": [
    "from pyspark.sql.types import *"
   ]
  },
  {
   "cell_type": "markdown",
   "metadata": {
    "application/vnd.databricks.v1+cell": {
     "cellMetadata": {},
     "inputWidgets": {},
     "nuid": "d9f6df56-e460-4ede-a467-eeff39d5f2ad",
     "showTitle": false,
     "title": ""
    }
   },
   "source": [
    "### Trips dataset"
   ]
  },
  {
   "cell_type": "code",
   "execution_count": null,
   "metadata": {
    "application/vnd.databricks.v1+cell": {
     "cellMetadata": {
      "byteLimit": 2048000,
      "rowLimit": 10000
     },
     "inputWidgets": {},
     "nuid": "d30ad5a6-0dfc-4130-a604-da11a570e375",
     "showTitle": false,
     "title": ""
    }
   },
   "outputs": [
    {
     "name": "stdout",
     "output_type": "stream",
     "text": [
      "+----------------+-------------+-------------------+-------------------+----------------+--------------+---------+\n",
      "|         trip_id|rideable_type|         started_at|           ended_at|start_station_id|end_station_id|member_id|\n",
      "+----------------+-------------+-------------------+-------------------+----------------+--------------+---------+\n",
      "|89E7AA6C29227EFF| classic_bike|2021-02-12 16:14:56|2021-02-12 16:21:43|             525|           660|    71934|\n",
      "|0FEFDE2603568365| classic_bike|2021-02-14 17:52:38|2021-02-14 18:12:09|             525|         16806|    47854|\n",
      "|E6159D746B2DBB91|electric_bike|2021-02-09 19:10:18|2021-02-09 19:19:10|    KA1503000012|  TA1305000029|    70870|\n",
      "|B32D3199F1C2E75B| classic_bike|2021-02-02 17:49:41|2021-02-02 17:54:06|             637|  TA1305000034|    58974|\n",
      "|83E463F23575F4BF|electric_bike|2021-02-23 15:07:23|2021-02-23 15:22:37|           13216|  TA1309000055|    39608|\n",
      "+----------------+-------------+-------------------+-------------------+----------------+--------------+---------+\n",
      "only showing top 5 rows\n",
      "\n"
     ]
    }
   ],
   "source": [
    "\n",
    "schema_trips = StructType([\\\n",
    "    StructField(\"trip_id\", StringType(), False),\\\n",
    "    StructField(\"rideable_type\", StringType(), True),\\\n",
    "    StructField(\"started_at\", TimestampType(), True),\\\n",
    "    StructField(\"ended_at\", TimestampType(), True),\\\n",
    "    StructField(\"start_station_id\", StringType(), True),\\\n",
    "    StructField(\"end_station_id\", StringType(), True),\\\n",
    "    StructField(\"member_id\", IntegerType(), True)])\n",
    "df_trips = spark.read.format(\"csv\")\\\n",
    "                .option(\"inferSchema\", \"false\")\\\n",
    "                .option(\"header\", \"false\")\\\n",
    "                .option(\"sep\", \",\")\\\n",
    "                .schema(schema_trips)\\\n",
    "                .load(\"/FileStore/divvy/trips.csv\")\n",
    "df_trips.show(5)"
   ]
  },
  {
   "cell_type": "code",
   "execution_count": null,
   "metadata": {
    "application/vnd.databricks.v1+cell": {
     "cellMetadata": {
      "byteLimit": 2048000,
      "rowLimit": 10000
     },
     "inputWidgets": {},
     "nuid": "4c57e53e-124f-4740-b346-51f6ff7c9a70",
     "showTitle": false,
     "title": ""
    }
   },
   "outputs": [
    {
     "name": "stdout",
     "output_type": "stream",
     "text": [
      "root\n",
      " |-- trip_id: string (nullable = true)\n",
      " |-- rideable_type: string (nullable = true)\n",
      " |-- started_at: timestamp (nullable = true)\n",
      " |-- ended_at: timestamp (nullable = true)\n",
      " |-- start_station_id: string (nullable = true)\n",
      " |-- end_station_id: string (nullable = true)\n",
      " |-- member_id: integer (nullable = true)\n",
      "\n"
     ]
    }
   ],
   "source": [
    "df_trips.printSchema()"
   ]
  },
  {
   "cell_type": "markdown",
   "metadata": {
    "application/vnd.databricks.v1+cell": {
     "cellMetadata": {},
     "inputWidgets": {},
     "nuid": "7a7f5348-d26d-42fc-90af-59e2f93f8a38",
     "showTitle": false,
     "title": ""
    }
   },
   "source": [
    "### Payment dataset"
   ]
  },
  {
   "cell_type": "code",
   "execution_count": null,
   "metadata": {
    "application/vnd.databricks.v1+cell": {
     "cellMetadata": {
      "byteLimit": 2048000,
      "rowLimit": 10000
     },
     "inputWidgets": {},
     "nuid": "edf8fc29-e60a-44ce-91f8-0fe1a3d3af24",
     "showTitle": false,
     "title": ""
    }
   },
   "outputs": [
    {
     "name": "stdout",
     "output_type": "stream",
     "text": [
      "+----------+-------------------+------+--------------+\n",
      "|payment_id|               date|amount|account_number|\n",
      "+----------+-------------------+------+--------------+\n",
      "|         1|2019-05-01 00:00:00|   9.0|          1000|\n",
      "|         2|2019-06-01 00:00:00|   9.0|          1000|\n",
      "|         3|2019-07-01 00:00:00|   9.0|          1000|\n",
      "|         4|2019-08-01 00:00:00|   9.0|          1000|\n",
      "|         5|2019-09-01 00:00:00|   9.0|          1000|\n",
      "+----------+-------------------+------+--------------+\n",
      "only showing top 5 rows\n",
      "\n"
     ]
    }
   ],
   "source": [
    "schema_payment = StructType([\\\n",
    "    StructField(\"payment_id\", IntegerType(), False),\\\n",
    "    StructField(\"date\", TimestampType(), True),\\\n",
    "    StructField(\"amount\", FloatType(), True),\\\n",
    "    StructField(\"account_number\", IntegerType(), True)])\n",
    "df_payment = spark.read.format(\"csv\")\\\n",
    "                .option(\"inferSchema\", \"false\")\\\n",
    "                .option(\"header\", \"false\")\\\n",
    "                .option(\"sep\", \",\")\\\n",
    "                .schema(schema_payment)\\\n",
    "                .load(\"/FileStore/divvy/payments.csv\")\n",
    "df_payment.show(5)"
   ]
  },
  {
   "cell_type": "code",
   "execution_count": null,
   "metadata": {
    "application/vnd.databricks.v1+cell": {
     "cellMetadata": {
      "byteLimit": 2048000,
      "rowLimit": 10000
     },
     "inputWidgets": {},
     "nuid": "9266305f-c1d3-46e7-9492-f1cdb1fc13c9",
     "showTitle": false,
     "title": ""
    }
   },
   "outputs": [
    {
     "name": "stdout",
     "output_type": "stream",
     "text": [
      "root\n",
      " |-- payment_id: integer (nullable = true)\n",
      " |-- date: timestamp (nullable = true)\n",
      " |-- amount: float (nullable = true)\n",
      " |-- account_number: integer (nullable = true)\n",
      "\n"
     ]
    }
   ],
   "source": [
    "df_payment.printSchema()"
   ]
  },
  {
   "cell_type": "markdown",
   "metadata": {
    "application/vnd.databricks.v1+cell": {
     "cellMetadata": {},
     "inputWidgets": {},
     "nuid": "def98c94-bc1c-41e8-aef2-9f45dedb9dec",
     "showTitle": false,
     "title": ""
    }
   },
   "source": [
    "### Rider dataset"
   ]
  },
  {
   "cell_type": "code",
   "execution_count": null,
   "metadata": {
    "application/vnd.databricks.v1+cell": {
     "cellMetadata": {
      "byteLimit": 2048000,
      "rowLimit": 10000
     },
     "inputWidgets": {},
     "nuid": "4b6a3521-1543-4827-8686-632fa067f22c",
     "showTitle": false,
     "title": ""
    }
   },
   "outputs": [
    {
     "name": "stdout",
     "output_type": "stream",
     "text": [
      "+--------+--------+---------+--------------------+-------------------+-------------------+-------------------+------+\n",
      "|rider_id|   first|     last|             address|           birthday|         start_date|           end_date|member|\n",
      "+--------+--------+---------+--------------------+-------------------+-------------------+-------------------+------+\n",
      "|    1000|   Diana|    Clark| 1200 Alyssa Squares|1989-02-13 00:00:00|2019-04-23 00:00:00|               NULL|  true|\n",
      "|    1001|Jennifer|    Smith|     397 Diana Ferry|1976-08-10 00:00:00|2019-11-01 00:00:00|2020-09-01 00:00:00|  true|\n",
      "|    1002|   Karen|    Smith|644 Brittany Row ...|1998-08-10 00:00:00|2022-02-04 00:00:00|               NULL|  true|\n",
      "|    1003|   Bryan|  Roberts|996 Dickerson Tur...|1999-03-29 00:00:00|2019-08-26 00:00:00|               NULL| false|\n",
      "|    1004|   Jesse|Middleton|7009 Nathan Expre...|1969-04-11 00:00:00|2019-09-14 00:00:00|               NULL|  true|\n",
      "+--------+--------+---------+--------------------+-------------------+-------------------+-------------------+------+\n",
      "only showing top 5 rows\n",
      "\n"
     ]
    }
   ],
   "source": [
    "schema_rider = StructType([\\\n",
    "    StructField(\"rider_id\", IntegerType(), False),\\\n",
    "    StructField(\"first\", StringType(), True),\\\n",
    "    StructField(\"last\", StringType(), True),\\\n",
    "    StructField(\"address\", StringType(), True),\\\n",
    "    StructField(\"birthday\", TimestampType(), True),\\\n",
    "    StructField(\"start_date\", TimestampType(), True),\\\n",
    "    StructField(\"end_date\", TimestampType(), True),\\\n",
    "    StructField(\"member\", BooleanType(), True)])\n",
    "df_rider = spark.read.format(\"csv\")\\\n",
    "                .option(\"inferSchema\", \"false\")\\\n",
    "                .option(\"header\", \"false\")\\\n",
    "                .option(\"sep\", \",\")\\\n",
    "                .schema(schema_rider)\\\n",
    "                .load(\"/FileStore/divvy/riders.csv\")\n",
    "df_rider.show(5)"
   ]
  },
  {
   "cell_type": "code",
   "execution_count": null,
   "metadata": {
    "application/vnd.databricks.v1+cell": {
     "cellMetadata": {
      "byteLimit": 2048000,
      "rowLimit": 10000
     },
     "inputWidgets": {},
     "nuid": "e9160de8-cd71-4870-9b60-595ec869d234",
     "showTitle": false,
     "title": ""
    }
   },
   "outputs": [
    {
     "name": "stdout",
     "output_type": "stream",
     "text": [
      "root\n",
      " |-- rider_id: integer (nullable = true)\n",
      " |-- first: string (nullable = true)\n",
      " |-- last: string (nullable = true)\n",
      " |-- address: string (nullable = true)\n",
      " |-- birthday: timestamp (nullable = true)\n",
      " |-- start_date: timestamp (nullable = true)\n",
      " |-- end_date: timestamp (nullable = true)\n",
      " |-- member: boolean (nullable = true)\n",
      "\n"
     ]
    }
   ],
   "source": [
    "df_rider.printSchema()"
   ]
  },
  {
   "cell_type": "markdown",
   "metadata": {
    "application/vnd.databricks.v1+cell": {
     "cellMetadata": {},
     "inputWidgets": {},
     "nuid": "486e30ff-f516-4d5f-b33f-58d268174ded",
     "showTitle": false,
     "title": ""
    }
   },
   "source": [
    "### Station dataset"
   ]
  },
  {
   "cell_type": "code",
   "execution_count": null,
   "metadata": {
    "application/vnd.databricks.v1+cell": {
     "cellMetadata": {
      "byteLimit": 2048000,
      "rowLimit": 10000
     },
     "inputWidgets": {},
     "nuid": "51724034-f78a-4a88-9256-c16484d39cbb",
     "showTitle": false,
     "title": ""
    }
   },
   "outputs": [
    {
     "name": "stdout",
     "output_type": "stream",
     "text": [
      "+------------+--------------------+---------+----------+\n",
      "|  station_id|                name| latitude| longitude|\n",
      "+------------+--------------------+---------+----------+\n",
      "|         525|Glenwood Ave & To...|  42.0127| -87.66606|\n",
      "|KA1503000012|  Clark St & Lake St|41.885796|  -87.6311|\n",
      "|         637|Wood St & Chicago...|41.895634|-87.672066|\n",
      "|       13216|  State St & 33rd St|41.834732|-87.625824|\n",
      "|       18003|Fairbanks St & Su...| 41.89581|-87.620255|\n",
      "+------------+--------------------+---------+----------+\n",
      "only showing top 5 rows\n",
      "\n"
     ]
    }
   ],
   "source": [
    "schema_station = StructType([\\\n",
    "    StructField(\"station_id\", StringType(), False),\\\n",
    "    StructField(\"name\", StringType(), True),\\\n",
    "    StructField(\"latitude\", FloatType(), True),\\\n",
    "    StructField(\"longitude\", FloatType(), True)])\n",
    "df_station = spark.read.format(\"csv\")\\\n",
    "                .option(\"inferSchema\", \"false\")\\\n",
    "                .option(\"header\", \"false\")\\\n",
    "                .option(\"sep\", \",\")\\\n",
    "                .schema(schema_station)\\\n",
    "                .load(\"/FileStore/divvy/stations.csv\")\n",
    "df_station.show(5)"
   ]
  },
  {
   "cell_type": "code",
   "execution_count": null,
   "metadata": {
    "application/vnd.databricks.v1+cell": {
     "cellMetadata": {
      "byteLimit": 2048000,
      "rowLimit": 10000
     },
     "inputWidgets": {},
     "nuid": "532b42a8-9127-42de-bef5-492bc6bea0fa",
     "showTitle": false,
     "title": ""
    }
   },
   "outputs": [
    {
     "name": "stdout",
     "output_type": "stream",
     "text": [
      "root\n",
      " |-- station_id: string (nullable = true)\n",
      " |-- name: string (nullable = true)\n",
      " |-- latitude: float (nullable = true)\n",
      " |-- longitude: float (nullable = true)\n",
      "\n"
     ]
    }
   ],
   "source": [
    "df_station.printSchema()"
   ]
  },
  {
   "cell_type": "markdown",
   "metadata": {
    "application/vnd.databricks.v1+cell": {
     "cellMetadata": {},
     "inputWidgets": {},
     "nuid": "ff55ef4a-4241-4bc4-9245-7dbc0b129514",
     "showTitle": false,
     "title": ""
    }
   },
   "source": [
    "# Ingest dataframes into Delta"
   ]
  },
  {
   "cell_type": "code",
   "execution_count": null,
   "metadata": {
    "application/vnd.databricks.v1+cell": {
     "cellMetadata": {
      "byteLimit": 2048000,
      "rowLimit": 10000
     },
     "inputWidgets": {},
     "nuid": "fac77e39-e6ae-4bff-912d-8526b73da0be",
     "showTitle": false,
     "title": ""
    }
   },
   "outputs": [],
   "source": [
    "df_trips.write.format(\"delta\")\\\n",
    "              .mode(\"overwrite\")\\\n",
    "              .save(\"/delta/bronze_trips\")"
   ]
  },
  {
   "cell_type": "code",
   "execution_count": null,
   "metadata": {
    "application/vnd.databricks.v1+cell": {
     "cellMetadata": {
      "byteLimit": 2048000,
      "rowLimit": 10000
     },
     "inputWidgets": {},
     "nuid": "679abe21-523f-4d9a-8a07-73b50841bcf4",
     "showTitle": false,
     "title": ""
    }
   },
   "outputs": [],
   "source": [
    "df_payment.write.format(\"delta\")\\\n",
    "              .mode(\"overwrite\")\\\n",
    "              .save(\"/delta/bronze_payments\")"
   ]
  },
  {
   "cell_type": "code",
   "execution_count": null,
   "metadata": {
    "application/vnd.databricks.v1+cell": {
     "cellMetadata": {
      "byteLimit": 2048000,
      "rowLimit": 10000
     },
     "inputWidgets": {},
     "nuid": "9dbbe215-41ab-4f38-85c8-cbe905e55335",
     "showTitle": false,
     "title": ""
    }
   },
   "outputs": [],
   "source": [
    "df_rider.write.format(\"delta\")\\\n",
    "              .mode(\"overwrite\")\\\n",
    "              .save(\"/delta/bronze_riders\")"
   ]
  },
  {
   "cell_type": "code",
   "execution_count": null,
   "metadata": {
    "application/vnd.databricks.v1+cell": {
     "cellMetadata": {
      "byteLimit": 2048000,
      "rowLimit": 10000
     },
     "inputWidgets": {},
     "nuid": "aaf78b3e-c920-402b-8224-23427ba8013d",
     "showTitle": false,
     "title": ""
    }
   },
   "outputs": [],
   "source": [
    "df_station.write.format(\"delta\")\\\n",
    "              .mode(\"overwrite\")\\\n",
    "              .save(\"/delta/bronze_stations\")"
   ]
  }
 ],
 "metadata": {
  "application/vnd.databricks.v1+notebook": {
   "dashboards": [],
   "environmentMetadata": null,
   "language": "python",
   "notebookMetadata": {
    "pythonIndentUnit": 4
   },
   "notebookName": "extract_data",
   "widgets": {}
  },
  "kernelspec": {
   "display_name": ".venv",
   "language": "python",
   "name": "python3"
  },
  "language_info": {
   "name": "python",
   "version": "3.9.13"
  }
 },
 "nbformat": 4,
 "nbformat_minor": 0
}
