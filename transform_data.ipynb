{
 "cells": [
  {
   "cell_type": "markdown",
   "metadata": {
    "application/vnd.databricks.v1+cell": {
     "cellMetadata": {},
     "inputWidgets": {},
     "nuid": "2ebab8ff-6799-40f2-a97a-7aca8976d89d",
     "showTitle": false,
     "title": ""
    }
   },
   "source": [
    "# Create Fact and Dimension tables for Analytics"
   ]
  },
  {
   "cell_type": "markdown",
   "metadata": {
    "application/vnd.databricks.v1+cell": {
     "cellMetadata": {},
     "inputWidgets": {},
     "nuid": "5bfacfda-6c31-4c9d-9eea-ef7e8d9c4bf5",
     "showTitle": false,
     "title": ""
    }
   },
   "source": [
    "### Create Date Dimension table"
   ]
  },
  {
   "cell_type": "code",
   "execution_count": null,
   "metadata": {
    "application/vnd.databricks.v1+cell": {
     "cellMetadata": {
      "byteLimit": 2048000,
      "rowLimit": 10000
     },
     "inputWidgets": {},
     "nuid": "3afd5204-e2e8-44e0-87f0-33684fc7ef39",
     "showTitle": false,
     "title": ""
    }
   },
   "outputs": [],
   "source": [
    "from pyspark.sql import functions as F\n",
    "from pyspark.sql.types import IntegerType"
   ]
  },
  {
   "cell_type": "code",
   "execution_count": null,
   "metadata": {
    "application/vnd.databricks.v1+cell": {
     "cellMetadata": {
      "byteLimit": 2048000,
      "rowLimit": 10000
     },
     "inputWidgets": {},
     "nuid": "a63ab756-7383-474d-b654-7b41dd6e5df4",
     "showTitle": false,
     "title": ""
    }
   },
   "outputs": [
    {
     "name": "stdout",
     "output_type": "stream",
     "text": [
      "+--------+----------+----+-------+-----+-----------+\n",
      "|date_key|      date|year|quarter|month|day_of_week|\n",
      "+--------+----------+----+-------+-----+-----------+\n",
      "|20210201|2021-02-01|2021|      1|    2|          2|\n",
      "|20210202|2021-02-02|2021|      1|    2|          3|\n",
      "|20210203|2021-02-03|2021|      1|    2|          4|\n",
      "|20210204|2021-02-04|2021|      1|    2|          5|\n",
      "|20210205|2021-02-05|2021|      1|    2|          6|\n",
      "+--------+----------+----+-------+-----+-----------+\n",
      "only showing top 5 rows\n",
      "\n"
     ]
    }
   ],
   "source": [
    "df_trips = spark.table(\"trips\")\n",
    "# Get the min date from the started date of trips\n",
    "min_date= df_trips.select(F.min(\"started_at\").alias(\"min_date\")).first().asDict()[\"min_date\"]\n",
    "# Get the max date from the ended date of trips and add more 5 years for future trips\n",
    "max_date = df_trips.selectExpr(\"DATEADD(YEAR, 5, MAX(ended_at)) AS max_date\").first().asDict()[\"max_date\"]\n",
    "dim_date = spark.createDataFrame([(1,)], [\"date_key\"])\n",
    "date_interval = f\"sequence(to_date('{min_date}'), to_date('{max_date}'), interval 1 day)\"\n",
    "dim_date = dim_date.withColumn(\"date\",  F.explode(F.expr(date_interval)))\n",
    "\n",
    "dim_date = dim_date.withColumn(\"year\", F.year(dim_date.date))\\\n",
    "                    .withColumn(\"quarter\", F.quarter(dim_date.date))\\\n",
    "                    .withColumn(\"month\", F.month(dim_date.date))\\\n",
    "                    .withColumn(\"day_of_week\", F.dayofweek(dim_date.date))\\\n",
    "                    .withColumn(\"date_key\", F.expr(\"date_format(date, 'yyyyMMdd')\").cast(IntegerType()))\n",
    "dim_date.show(5)\n"
   ]
  },
  {
   "cell_type": "code",
   "execution_count": null,
   "metadata": {
    "application/vnd.databricks.v1+cell": {
     "cellMetadata": {
      "byteLimit": 2048000,
      "rowLimit": 10000
     },
     "inputWidgets": {},
     "nuid": "f82f49a9-ab2c-452a-82a3-70e2705c340f",
     "showTitle": false,
     "title": ""
    }
   },
   "outputs": [],
   "source": [
    "dim_date.write.format(\"delta\")\\\n",
    "        .mode(\"overwrite\")\\\n",
    "        .saveAsTable(\"gold_dim_date\")"
   ]
  },
  {
   "cell_type": "markdown",
   "metadata": {
    "application/vnd.databricks.v1+cell": {
     "cellMetadata": {},
     "inputWidgets": {},
     "nuid": "ec7cbb5b-d565-4587-9adc-693cc7ab5fc2",
     "showTitle": false,
     "title": ""
    }
   },
   "source": [
    "### Create Station Dimension table"
   ]
  },
  {
   "cell_type": "code",
   "execution_count": null,
   "metadata": {
    "application/vnd.databricks.v1+cell": {
     "cellMetadata": {
      "byteLimit": 2048000,
      "rowLimit": 10000
     },
     "inputWidgets": {},
     "nuid": "abcc6b14-6631-4745-9efa-f70bab7355d0",
     "showTitle": false,
     "title": ""
    }
   },
   "outputs": [
    {
     "name": "stdout",
     "output_type": "stream",
     "text": [
      "+-----------+------------+--------------------+---------+----------+\n",
      "|station_key|  station_id|                name| latitude| longitude|\n",
      "+-----------+------------+--------------------+---------+----------+\n",
      "|          0|         525|Glenwood Ave & To...|  42.0127| -87.66606|\n",
      "|          1|KA1503000012|  Clark St & Lake St|41.885796|  -87.6311|\n",
      "|          2|         637|Wood St & Chicago...|41.895634|-87.672066|\n",
      "|          3|       13216|  State St & 33rd St|41.834732|-87.625824|\n",
      "|          4|       18003|Fairbanks St & Su...| 41.89581|-87.620255|\n",
      "+-----------+------------+--------------------+---------+----------+\n",
      "only showing top 5 rows\n",
      "\n"
     ]
    }
   ],
   "source": [
    "dim_station = spark.table(\"stations\")\n",
    "# Generate the surrogate key\n",
    "dim_station = dim_station.withColumn(\"station_key\", F.monotonically_increasing_id())\n",
    "# Reoder column positions\n",
    "dim_station = dim_station.select(\"station_key\", \"station_id\", \"name\", \"latitude\", \"longitude\")\n",
    "dim_station.show(5)"
   ]
  },
  {
   "cell_type": "code",
   "execution_count": null,
   "metadata": {
    "application/vnd.databricks.v1+cell": {
     "cellMetadata": {
      "byteLimit": 2048000,
      "rowLimit": 10000
     },
     "inputWidgets": {},
     "nuid": "ec4f4652-6fbd-466d-a20d-615a8374bcd7",
     "showTitle": false,
     "title": ""
    }
   },
   "outputs": [],
   "source": [
    "dim_station.write.format(\"delta\")\\\n",
    "        .mode(\"overwrite\")\\\n",
    "        .saveAsTable(\"gold_dim_station\")"
   ]
  },
  {
   "cell_type": "markdown",
   "metadata": {
    "application/vnd.databricks.v1+cell": {
     "cellMetadata": {},
     "inputWidgets": {},
     "nuid": "49e5e65d-026a-45bd-a26d-19dcb126dc2d",
     "showTitle": false,
     "title": ""
    }
   },
   "source": [
    "### Create Rider Dimension table"
   ]
  },
  {
   "cell_type": "code",
   "execution_count": null,
   "metadata": {
    "application/vnd.databricks.v1+cell": {
     "cellMetadata": {
      "byteLimit": 2048000,
      "rowLimit": 10000
     },
     "inputWidgets": {},
     "nuid": "a790da48-8766-45dd-87fd-8334a4bdca88",
     "showTitle": false,
     "title": ""
    }
   },
   "outputs": [
    {
     "name": "stdout",
     "output_type": "stream",
     "text": [
      "+---------+--------+--------+---------+--------------------+-------------------+-------------------+-------------------+-------------+\n",
      "|rider_key|rider_id|   first|     last|             address|           birthday| account_start_date|   account_end_date|member_status|\n",
      "+---------+--------+--------+---------+--------------------+-------------------+-------------------+-------------------+-------------+\n",
      "|        0|    1000|   Diana|    Clark| 1200 Alyssa Squares|1989-02-13 00:00:00|2019-04-23 00:00:00|               NULL|         true|\n",
      "|        1|    1001|Jennifer|    Smith|     397 Diana Ferry|1976-08-10 00:00:00|2019-11-01 00:00:00|2020-09-01 00:00:00|         true|\n",
      "|        2|    1002|   Karen|    Smith|644 Brittany Row ...|1998-08-10 00:00:00|2022-02-04 00:00:00|               NULL|         true|\n",
      "|        3|    1003|   Bryan|  Roberts|996 Dickerson Tur...|1999-03-29 00:00:00|2019-08-26 00:00:00|               NULL|        false|\n",
      "|        4|    1004|   Jesse|Middleton|7009 Nathan Expre...|1969-04-11 00:00:00|2019-09-14 00:00:00|               NULL|         true|\n",
      "+---------+--------+--------+---------+--------------------+-------------------+-------------------+-------------------+-------------+\n",
      "only showing top 5 rows\n",
      "\n"
     ]
    }
   ],
   "source": [
    "dim_rider = spark.table(\"riders\")\n",
    "# Generate the surrogate key\n",
    "dim_rider = dim_rider.withColumn(\"rider_key\", F.monotonically_increasing_id())\n",
    "# Reorder column positions\n",
    "dim_rider = dim_rider.selectExpr(\"rider_key\", \"rider_id\", \"first\", \"last\", \"address\", \"birthday\", \"start_date AS account_start_date\", \"end_date AS account_end_date\", \"member AS member_status\")\n",
    "dim_rider.show(5)\n"
   ]
  },
  {
   "cell_type": "code",
   "execution_count": null,
   "metadata": {
    "application/vnd.databricks.v1+cell": {
     "cellMetadata": {
      "byteLimit": 2048000,
      "rowLimit": 10000
     },
     "inputWidgets": {},
     "nuid": "3bfb4a41-4906-4fd0-b8a4-e0fc80c612b1",
     "showTitle": false,
     "title": ""
    }
   },
   "outputs": [],
   "source": [
    "dim_rider.write.format(\"delta\")\\\n",
    "        .mode(\"overwrite\")\\\n",
    "        .saveAsTable(\"gold_dim_rider\")"
   ]
  },
  {
   "cell_type": "markdown",
   "metadata": {
    "application/vnd.databricks.v1+cell": {
     "cellMetadata": {},
     "inputWidgets": {},
     "nuid": "88f1c735-4ac2-418f-8610-ec5a30e095ec",
     "showTitle": false,
     "title": ""
    }
   },
   "source": [
    "### Create Payment Fact table"
   ]
  },
  {
   "cell_type": "code",
   "execution_count": null,
   "metadata": {
    "application/vnd.databricks.v1+cell": {
     "cellMetadata": {
      "byteLimit": 2048000,
      "rowLimit": 10000
     },
     "inputWidgets": {},
     "nuid": "f7ad1773-315d-4dc5-98c9-5a5af418bd7f",
     "showTitle": false,
     "title": ""
    }
   },
   "outputs": [
    {
     "name": "stdout",
     "output_type": "stream",
     "text": [
      "+-----------+--------+---------+------+\n",
      "|payment_key|date_key|rider_key|amount|\n",
      "+-----------+--------+---------+------+\n",
      "|     539256|20200801|    20826|   9.0|\n",
      "|     539257|20200901|    20826|   9.0|\n",
      "|     539258|20201001|    20826|   9.0|\n",
      "|     539259|20201101|    20826|   9.0|\n",
      "|     539260|20201201|    20826|   9.0|\n",
      "+-----------+--------+---------+------+\n",
      "only showing top 5 rows\n",
      "\n"
     ]
    }
   ],
   "source": [
    "fact_payment = spark.table(\"payments\")\n",
    "\n",
    "fact_payment = fact_payment.alias(\"p\").join(dim_rider.alias(\"r\"), F.col(\"p.account_number\") == F.col(\"r.rider_id\"), \"left\")\\\n",
    "                            .withColumn(\"date_key\", F.expr(\"date_format(date, 'yyyyMMdd')\").cast(IntegerType()))\\\n",
    "                            .withColumn(\"rider_key\", F.col(\"r.rider_key\"))\\\n",
    "                            .selectExpr(\"payment_id AS payment_key\", \"date_key\", \"rider_key\", \"amount\")\n",
    "fact_payment.show(5)"
   ]
  },
  {
   "cell_type": "code",
   "execution_count": null,
   "metadata": {
    "application/vnd.databricks.v1+cell": {
     "cellMetadata": {
      "byteLimit": 2048000,
      "rowLimit": 10000
     },
     "inputWidgets": {},
     "nuid": "d252b4a8-a114-47cc-972a-c0232c17e783",
     "showTitle": false,
     "title": ""
    }
   },
   "outputs": [],
   "source": [
    "fact_payment.write.format(\"delta\")\\\n",
    "        .mode(\"overwrite\")\\\n",
    "        .saveAsTable(\"gold_fact_payment\")"
   ]
  },
  {
   "cell_type": "markdown",
   "metadata": {
    "application/vnd.databricks.v1+cell": {
     "cellMetadata": {},
     "inputWidgets": {},
     "nuid": "0cbd52de-83bc-4ff8-a8c2-29658168e539",
     "showTitle": false,
     "title": ""
    }
   },
   "source": [
    "### Create Trip Fact table"
   ]
  },
  {
   "cell_type": "code",
   "execution_count": null,
   "metadata": {
    "application/vnd.databricks.v1+cell": {
     "cellMetadata": {
      "byteLimit": 2048000,
      "rowLimit": 10000
     },
     "inputWidgets": {},
     "nuid": "ac444adb-c222-45ef-81c0-51eb4229cb94",
     "showTitle": false,
     "title": ""
    }
   },
   "outputs": [
    {
     "name": "stdout",
     "output_type": "stream",
     "text": [
      "+----------------+-----------------+---------------+----------+--------+-------------+-------------------+-------------------+--------+---------+\n",
      "|        trip_key|start_station_key|end_station_key| rider_key|date_key|rideable_type|         started_at|           ended_at|duration|rider_age|\n",
      "+----------------+-----------------+---------------+----------+--------+-------------+-------------------+-------------------+--------+---------+\n",
      "|7E1E50AC37E2DAD3|              224|            487|      1644|20210814| classic_bike|2021-08-14 14:01:36|2021-08-14 14:34:49|      33|       45|\n",
      "|ADFF32195521E952|               74|            153|     36747|20210829| classic_bike|2021-08-29 16:16:36|2021-08-29 16:24:43|       8|       19|\n",
      "|7C59843DB8D13CC7|              305|            365|8589940559|20210827|electric_bike|2021-08-27 11:06:34|2021-08-27 11:12:52|       6|       34|\n",
      "|5B788004F8A5204C|              279|            457|     44050|20210827| classic_bike|2021-08-27 07:35:33|2021-08-27 07:59:35|      24|       28|\n",
      "|078629DD14B634AE|              279|            457|     32762|20210808| classic_bike|2021-08-08 15:00:30|2021-08-08 15:22:57|      22|       45|\n",
      "+----------------+-----------------+---------------+----------+--------+-------------+-------------------+-------------------+--------+---------+\n",
      "only showing top 5 rows\n",
      "\n"
     ]
    }
   ],
   "source": [
    "fact_trip = spark.table(\"trips\")\n",
    "fact_trip = fact_trip.alias(\"t\").join(dim_station.alias(\"s1\"), F.col(\"t.start_station_id\") == F.col(\"s1.station_id\"), \"left\")\\\n",
    "                    .join(dim_station.alias(\"s2\"), F.col(\"t.end_station_id\") == F.col(\"s2.station_id\"), \"left\")\\\n",
    "                    .join(dim_rider.alias(\"r\"), F.col(\"t.member_id\") == F.col(\"r.rider_id\"), \"left\")\\\n",
    "                    .withColumn(\"date_key\", F.expr(\"date_format(t.started_at, 'yyyyMMdd')\").cast(IntegerType()))\\\n",
    "                    .withColumn(\"duration\", ((F.col(\"t.ended_at\") - F.col(\"t.started_at\")).cast('long')/60).cast('int'))\\\n",
    "                    .withColumn(\"rider_age\", (F.months_between(F.col(\"t.started_at\"), F.col(\"r.birthday\")) / 12).cast('int'))\\\n",
    "                    .selectExpr(\"t.trip_id AS trip_key\", \"s1.station_key AS start_station_key\", \"s2.station_key AS end_station_key\", \"r.rider_key\", \"date_key\", \"rideable_type\", \"started_at\", \"ended_at\", \"duration\", \"rider_age\")\n",
    "fact_trip.show(5)"
   ]
  },
  {
   "cell_type": "code",
   "execution_count": null,
   "metadata": {
    "application/vnd.databricks.v1+cell": {
     "cellMetadata": {
      "byteLimit": 2048000,
      "rowLimit": 10000
     },
     "inputWidgets": {},
     "nuid": "b6aecc52-ac01-4d1d-9023-fd1dc15ea6ca",
     "showTitle": false,
     "title": ""
    }
   },
   "outputs": [],
   "source": [
    "fact_trip.write.format(\"delta\")\\\n",
    "        .mode(\"overwrite\")\\\n",
    "        .saveAsTable(\"gold_fact_trip\")"
   ]
  }
 ],
 "metadata": {
  "application/vnd.databricks.v1+notebook": {
   "dashboards": [],
   "environmentMetadata": null,
   "language": "python",
   "notebookMetadata": {
    "pythonIndentUnit": 4
   },
   "notebookName": "transform_data",
   "widgets": {}
  },
  "language_info": {
   "name": "python"
  }
 },
 "nbformat": 4,
 "nbformat_minor": 0
}
